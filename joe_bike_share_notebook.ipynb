{
 "cells": [
  {
   "cell_type": "code",
   "execution_count": 1,
   "metadata": {
    "scrolled": true
   },
   "outputs": [],
   "source": [
    "import pandas as pd\n",
    "import numpy as np\n",
    "import matplotlib.pyplot as plt\n",
    "import seaborn as sns\n",
    "import statsmodels.api as sm\n",
    "import math\n",
    "from imblearn.over_sampling import SMOTE\n",
    "from sklearn.linear_model import LogisticRegression\n",
    "from sklearn.model_selection import train_test_split\n",
    "from sklearn.metrics import confusion_matrix, r2_score, roc_auc_score, roc_curve, auc\n",
    "from IPython.display import display\n",
    "import warnings \n",
    "\n",
    "pd.options.display.max_columns = None\n",
    "warnings.filterwarnings('ignore')"
   ]
  },
  {
   "cell_type": "code",
   "execution_count": 2,
   "metadata": {},
   "outputs": [],
   "source": [
    "from python_files import *\n",
    "from python_files.confusion_matrix_func import *\n",
    "from python_files.display_predictor_func import *"
   ]
  },
  {
   "cell_type": "markdown",
   "metadata": {},
   "source": [
    "# Predicting instances of majority casual riders usng logistic regressions\n",
    "\n",
    "- Majority casual riders is 'rare event' constitutes ~ 2% of data records\n",
    "- Oversampled data with SMOTE package to make-up for imbalance\n",
    "- 80% train, 20% test\n",
    "- Treat day of week, time of day (hour) as a categorical\n",
    "\n",
    "# Target Variable\n",
    "\n",
    "- 'higher_casual' - column of zeros and ones, one indicates higher percentage of casual (non-subscription) riders than registered (subscription) riders for a given hour.  \n",
    "\n",
    "# Predictor variables"
   ]
  },
  {
   "cell_type": "code",
   "execution_count": 3,
   "metadata": {
    "scrolled": true
   },
   "outputs": [
    {
     "data": {
      "text/plain": [
       "Index(['holiday', 'weekday', 'workingday', 'temp', 'hum', 'windspeed',\n",
       "       'season_2', 'season_3', 'season_4', 'weathersit_1', 'weathersit_2',\n",
       "       'weathersit_3', 'weekday_0', 'weekday_1', 'weekday_2', 'weekday_3',\n",
       "       'weekday_4', 'weekday_5', 'hr_1', 'hr_2', 'hr_3', 'hr_4', 'hr_5',\n",
       "       'hr_6', 'hr_7', 'hr_8', 'hr_9', 'hr_10', 'hr_11', 'hr_12', 'hr_13',\n",
       "       'hr_14', 'hr_15', 'hr_16', 'hr_17', 'hr_18', 'hr_19', 'hr_20', 'hr_21',\n",
       "       'hr_22', 'hr_23'],\n",
       "      dtype='object')"
      ]
     },
     "execution_count": 3,
     "metadata": {},
     "output_type": "execute_result"
    }
   ],
   "source": [
    "display_predictors()"
   ]
  },
  {
   "cell_type": "code",
   "execution_count": 4,
   "metadata": {},
   "outputs": [
    {
     "name": "stdout",
     "output_type": "stream",
     "text": [
      "standard AUC for balanced: 0.8327646634026118\n"
     ]
    },
    {
     "data": {
      "image/png": "[encoded data removed]",
      "text/plain": [
       "<Figure size 504x432 with 1 Axes>"
      ]
     },
     "metadata": {
      "needs_background": "light"
     },
     "output_type": "display_data"
    }
   ],
   "source": [
    "%run -i python_files/log_reg_plot_func.py"
   ]
  },
  {
   "cell_type": "code",
   "execution_count": 5,
   "metadata": {
    "scrolled": true
   },
   "outputs": [
    {
     "data": {
      "text/plain": [
       "<matplotlib.axes._subplots.AxesSubplot at 0x1f60f537f28>"
      ]
     },
     "execution_count": 5,
     "metadata": {},
     "output_type": "execute_result"
    },
    {
     "data": {
      "image/png": "[encoded data removed]",
      "text/plain": [
       "<Figure size 432x288 with 1 Axes>"
      ]
     },
     "metadata": {
      "needs_background": "light"
     },
     "output_type": "display_data"
    }
   ],
   "source": [
    "generate_conf_matrix(model_log, X_test, y_test)"
   ]
  },
  {
   "cell_type": "markdown",
   "metadata": {},
   "source": [
    "# Import Data"
   ]
  },
  {
   "cell_type": "code",
   "execution_count": null,
   "metadata": {},
   "outputs": [],
   "source": [
    "hour_raw = pd.read_csv('data/hour.csv')"
   ]
  },
  {
   "cell_type": "markdown",
   "metadata": {},
   "source": [
    "# Explore"
   ]
  },
  {
   "cell_type": "code",
   "execution_count": null,
   "metadata": {},
   "outputs": [],
   "source": [
    "hour_raw.describe()"
   ]
  },
  {
   "cell_type": "markdown",
   "metadata": {},
   "source": [
    "weathersit : \n",
    "\t\t- 1: Clear, Few clouds, Partly cloudy, Partly cloudy\n",
    "\t\t- 2: Mist + Cloudy, Mist + Broken clouds, Mist + Few clouds, Mist\n",
    "\t\t- 3: Light Snow, Light Rain + Thunderstorm + Scattered clouds, Light Rain + Scattered clouds\n",
    "\t\t- 4: Heavy Rain + Ice Pallets + Thunderstorm + Mist, Snow + Fog"
   ]
  },
  {
   "cell_type": "markdown",
   "metadata": {},
   "source": [
    "## Month and Season are duplicative - We'll keep the one that correlates more with cnt bike shares   -    looks like season has higher correlation.  "
   ]
  },
  {
   "cell_type": "code",
   "execution_count": null,
   "metadata": {
    "scrolled": false
   },
   "outputs": [],
   "source": [
    "hour_raw.corr()"
   ]
  },
  {
   "cell_type": "code",
   "execution_count": null,
   "metadata": {
    "scrolled": true
   },
   "outputs": [],
   "source": [
    "ax = sns.heatmap(hour_raw.corr())"
   ]
  },
  {
   "cell_type": "code",
   "execution_count": null,
   "metadata": {
    "scrolled": false
   },
   "outputs": [],
   "source": [
    "pd.plotting.scatter_matrix(hour_raw[['temp', 'casual','registered','cnt']])"
   ]
  },
  {
   "cell_type": "markdown",
   "metadata": {},
   "source": [
    "## Check predictors/targets for normality"
   ]
  },
  {
   "cell_type": "code",
   "execution_count": null,
   "metadata": {
    "scrolled": false
   },
   "outputs": [],
   "source": [
    "hour_raw[['season', 'mnth', 'hr', 'holiday', 'weekday', 'workingday', 'weathersit', 'temp', 'hum',\n",
    "         'windspeed', 'cnt']].hist(figsize=(12,10))"
   ]
  },
  {
   "cell_type": "markdown",
   "metadata": {},
   "source": [
    "## Apply transformations to windspeed and cnt to bring closer to normal"
   ]
  },
  {
   "cell_type": "code",
   "execution_count": null,
   "metadata": {},
   "outputs": [],
   "source": [
    "hour_raw['sqr_wind'] = hour_raw.windspeed**(1/2)\n",
    "hour_raw['sqr_cnt'] = hour_raw.cnt**(1/5)\n",
    "hour_raw[['windspeed', 'sqr_wind', 'sqr_cnt', 'cnt']].hist(figsize=(12,8))"
   ]
  },
  {
   "cell_type": "markdown",
   "metadata": {},
   "source": [
    "# Linear Regression First Attempt - normalized hour data as norm_hr, hour is kept numeric"
   ]
  },
  {
   "cell_type": "code",
   "execution_count": null,
   "metadata": {},
   "outputs": [],
   "source": [
    "hour_raw = pd.read_csv('data/hour.csv')\n",
    "#hour_raw['sqr_wind'] = hour_raw.windspeed**(1/2)\n",
    "\n",
    "season_dummies = pd.get_dummies(data=hour_raw.season, prefix='season')\n",
    "weathersit_dummies=pd.get_dummies(data=hour_raw.weathersit, prefix='weathersit')\n",
    "weekday_dummies = pd.get_dummies(data=hour_raw.weekday, prefix='weekday')\n",
    "\n",
    "hour_raw = pd.concat([hour_raw, season_dummies, weathersit_dummies, weekday_dummies], axis=1)\n",
    "hour_raw.drop(columns=['season_1', 'weathersit_4', 'weekday_6'], inplace = True)\n",
    "\n",
    "hour_raw['norm_hr'] = (hour_raw.hr-min(hour_raw.hr))/(max(hour_raw.hr)-min(hour_raw.hr))\n",
    "\n",
    "lin_target = hour_raw.cnt\n",
    "features_df = hour_raw.drop(['instant', 'dteday', 'season', 'yr', 'mnth', 'hr', 'weathersit', 'atemp', 'casual', 'registered', 'cnt'], axis=1)\n",
    "predictor_int = sm.add_constant(features_df)\n",
    "\n",
    "X_train, X_test, y_train, y_test = train_test_split(features_df, lin_target, test_size = 0.4)\n",
    "\n",
    "model = sm.OLS(y_train, X_train).fit()\n",
    "model.summary()"
   ]
  },
  {
   "cell_type": "markdown",
   "metadata": {},
   "source": [
    "Predictors -> season, hr, holiday, weekday, workingday, weathersit, temp, atemp, hum, windspeed, casual, registered, cnt, spring, summer, fall"
   ]
  },
  {
   "cell_type": "markdown",
   "metadata": {},
   "source": [
    "# linear regression nth attempt - changed hours to dummy vars, transform wind speed, transform target\n",
    "\n",
    "## Test/train R^2 are very close, ~ .79 much higher now that we are using variable transforms and treating hour as categorical"
   ]
  },
  {
   "cell_type": "code",
   "execution_count": null,
   "metadata": {
    "scrolled": false
   },
   "outputs": [],
   "source": [
    "hour_raw = pd.read_csv('data/hour.csv')\n",
    "\n",
    "season_dummies = pd.get_dummies(data=hour_raw.season, prefix='season')\n",
    "weathersit_dummies=pd.get_dummies(data=hour_raw.weathersit, prefix='weathersit')\n",
    "weekday_dummies = pd.get_dummies(data=hour_raw.weekday, prefix='weekday')\n",
    "hr_dummies = pd.get_dummies(data=hour_raw.hr, prefix='hr')\n",
    "\n",
    "hour_raw = pd.concat([hour_raw, season_dummies, weathersit_dummies, weekday_dummies, hr_dummies], axis=1)\n",
    "hour_raw.drop(columns=['season_1', 'weathersit_4', 'weekday_6','hr_0'], inplace = True)\n",
    "\n",
    "hour_raw['sqr_wind'] = hour_raw.windspeed**(1/2)\n",
    "hour_raw['sqr_cnt'] = hour_raw.cnt**(1/5)\n",
    "\n",
    "lin_target = hour_raw.sqr_cnt\n",
    "features_df = hour_raw.drop(['instant', 'dteday', 'season', 'yr', 'mnth', 'hr', 'weathersit', 'atemp', 'casual', 'registered', 'cnt', 'hr', 'sqr_wind', 'sqr_cnt'], axis=1)\n",
    "predictor_int = sm.add_constant(features_df)\n",
    "\n",
    "X_train, X_test, y_train, y_test = train_test_split(predictor_int, lin_target, test_size = 0.2)\n",
    "\n",
    "model = sm.OLS(y_train, X_train).fit()\n",
    "y_pred = model.predict(X_test)\n",
    "print('test r2', r2_score(y_test, model.predict(X_test))) \n",
    "print('train r2', r2_score(y_train, model.predict(X_train)))\n",
    "\n",
    "#model.summary()"
   ]
  },
  {
   "cell_type": "markdown",
   "metadata": {},
   "source": [
    "## Need to transform results back to original form (x^(1/5))^5 = x \n",
    "## Check residuals for normality - residuals appear approx normal"
   ]
  },
  {
   "cell_type": "code",
   "execution_count": null,
   "metadata": {},
   "outputs": [],
   "source": [
    "pd.DataFrame(model.predict(X_test)**5-y_test**5).hist(bins=40)\n",
    "plt.title('residuals normality plot')\n",
    "plt.savefig('images/lin_reg_resid_normality_plot.jpg')"
   ]
  },
  {
   "cell_type": "markdown",
   "metadata": {},
   "source": [
    "\n",
    "\n",
    "\n",
    "\n",
    "\n",
    "\n"
   ]
  },
  {
   "cell_type": "markdown",
   "metadata": {},
   "source": [
    "# LOGISTIC REGRESSION"
   ]
  },
  {
   "cell_type": "code",
   "execution_count": 144,
   "metadata": {},
   "outputs": [
    {
     "name": "stdout",
     "output_type": "stream",
     "text": [
      "AUC for balanced: 0.8304119336728033\n"
     ]
    },
    {
     "data": {
      "image/png": "[encoded data removed]",
      "text/plain": [
       "<Figure size 504x432 with 1 Axes>"
      ]
     },
     "metadata": {
      "needs_background": "light"
     },
     "output_type": "display_data"
    }
   ],
   "source": [
    "from sklearn.linear_model import LogisticRegression\n",
    "from sklearn.metrics import roc_auc_score, roc_curve, auc\n",
    "\n",
    "hour_raw = pd.read_csv('data/hour.csv')\n",
    "\n",
    "season_dummies = pd.get_dummies(data=hour_raw.season, prefix='season')\n",
    "weathersit_dummies=pd.get_dummies(data=hour_raw.weathersit, prefix='weathersit')\n",
    "weekday_dummies = pd.get_dummies(data=hour_raw.weekday, prefix='weekday')\n",
    "hr_dummies = pd.get_dummies(data=hour_raw.hr, prefix='hr')\n",
    "\n",
    "hour_raw = pd.concat([hour_raw, season_dummies, weathersit_dummies, weekday_dummies, hr_dummies], axis=1)\n",
    "hour_raw.drop(columns=['season_1', 'weathersit_4', 'weekday_6','hr_0'], inplace = True)\n",
    "\n",
    "# modify wind/cnt to normalize\n",
    "hour_raw['sqr_wind'] = hour_raw.windspeed**(1/2)\n",
    "hour_raw['sqr_cnt'] = hour_raw.cnt**(1/5)\n",
    "\n",
    "#create target var for Log Reg (more casual or not)\n",
    "hour_raw['higher_casual'] = [1 if hour_raw['casual'][x]/hour_raw['cnt'][x] >= .5 else 0 for x in list(range(0,len(hour_raw)))] \n",
    "\n",
    "\n",
    "logR_target = hour_raw['higher_casual']\n",
    "predictor_int_log = hour_raw.drop(['instant', 'dteday', 'season', 'yr', \n",
    "                                   'mnth', 'hr', 'weathersit', 'atemp', 'casual', \n",
    "                                   'registered', 'cnt', 'hr', 'sqr_wind', 'sqr_cnt', \n",
    "                                   'higher_casual'], axis=1)\n",
    "\n",
    "\n",
    "X_train, X_test, y_train, y_test = train_test_split(predictor_int_log, logR_target, test_size = 0.3, random_state=79703)\n",
    "\n",
    "smote = SMOTE(random_state=2927)\n",
    "X_train_resampled, y_train_resampled = smote.fit_sample(X_train, y_train) \n",
    "logreg = LogisticRegression(fit_intercept = True, max_iter=400, C = .01, solver ='lbfgs', random_state=1214) #Starter code\n",
    "model_log = logreg.fit(X_train_resampled, y_train_resampled)\n",
    "\n",
    "y_hat_test = logreg.predict(X_test)\n",
    "y_score = model_log.decision_function(X_test)\n",
    "fpr, tpr, thresholds = roc_curve(y_test, y_score)\n",
    "    \n",
    "print('AUC for {}: {}'.format('balanced', auc(fpr, tpr)))\n",
    "lw = 2\n",
    "\n",
    "fig = plt.figure(figsize=(7,6))\n",
    "plt.plot(fpr, tpr, color='red', lw=lw, label='ROC curve {}'.format('balanced'))\n",
    "plt.title('ROC Curve')\n",
    "plt.xlabel('False Positive')\n",
    "plt.ylabel('True Positive')\n",
    "\n",
    "plt.savefig('images/log_roc_curve.jpg')"
   ]
  },
  {
   "cell_type": "code",
   "execution_count": 145,
   "metadata": {},
   "outputs": [
    {
     "data": {
      "text/plain": [
       "Index(['holiday', 'weekday', 'workingday', 'temp', 'hum', 'windspeed',\n",
       "       'season_2', 'season_3', 'season_4', 'weathersit_1', 'weathersit_2',\n",
       "       'weathersit_3', 'weekday_0', 'weekday_1', 'weekday_2', 'weekday_3',\n",
       "       'weekday_4', 'weekday_5', 'hr_1', 'hr_2', 'hr_3', 'hr_4', 'hr_5',\n",
       "       'hr_6', 'hr_7', 'hr_8', 'hr_9', 'hr_10', 'hr_11', 'hr_12', 'hr_13',\n",
       "       'hr_14', 'hr_15', 'hr_16', 'hr_17', 'hr_18', 'hr_19', 'hr_20', 'hr_21',\n",
       "       'hr_22', 'hr_23'],\n",
       "      dtype='object')"
      ]
     },
     "execution_count": 145,
     "metadata": {},
     "output_type": "execute_result"
    }
   ],
   "source": [
    "predictor_int_log.columns"
   ]
  },
  {
   "cell_type": "markdown",
   "metadata": {},
   "source": [
    "## Confusion matrix"
   ]
  },
  {
   "cell_type": "code",
   "execution_count": 146,
   "metadata": {},
   "outputs": [
    {
     "data": {
      "image/png": "[encoded data removed]",
      "text/plain": [
       "<Figure size 432x288 with 1 Axes>"
      ]
     },
     "metadata": {
      "needs_background": "light"
     },
     "output_type": "display_data"
    }
   ],
   "source": [
    "preds = np.where(model_log.predict_proba(X_test)[:,1] > .6, 1, 0)\n",
    "cm_df = pd.DataFrame(confusion_matrix(y_test, preds), index = ['Actual False', 'Actual True'],\n",
    "             columns = ['Predict False', 'Predict True'])\n",
    "sns.heatmap(cm_df, annot=True, cbar=False, fmt='d')\n",
    "plt.savefig('images/confusion_matrix.jpg')"
   ]
  },
  {
   "cell_type": "markdown",
   "metadata": {},
   "source": [
    "## Combine predictors and coefficients into one DataFrame and filter on top predictors"
   ]
  },
  {
   "cell_type": "code",
   "execution_count": 142,
   "metadata": {
    "scrolled": true
   },
   "outputs": [
    {
     "data": {
      "text/html": [
       "<div>\n",
       "<style scoped>\n",
       "    .dataframe tbody tr th:only-of-type {\n",
       "        vertical-align: middle;\n",
       "    }\n",
       "\n",
       "    .dataframe tbody tr th {\n",
       "        vertical-align: top;\n",
       "    }\n",
       "\n",
       "    .dataframe thead th {\n",
       "        text-align: right;\n",
       "    }\n",
       "</style>\n",
       "<table border=\"1\" class=\"dataframe\">\n",
       "  <thead>\n",
       "    <tr style=\"text-align: right;\">\n",
       "      <th></th>\n",
       "      <th>predictor</th>\n",
       "      <th>log_coefs</th>\n",
       "      <th>transformed_coefs</th>\n",
       "    </tr>\n",
       "  </thead>\n",
       "  <tbody>\n",
       "    <tr>\n",
       "      <th>20</th>\n",
       "      <td>hr_3</td>\n",
       "      <td>2.066365</td>\n",
       "      <td>7.896067</td>\n",
       "    </tr>\n",
       "    <tr>\n",
       "      <th>19</th>\n",
       "      <td>hr_2</td>\n",
       "      <td>1.967425</td>\n",
       "      <td>7.152238</td>\n",
       "    </tr>\n",
       "    <tr>\n",
       "      <th>21</th>\n",
       "      <td>hr_4</td>\n",
       "      <td>1.908866</td>\n",
       "      <td>6.745437</td>\n",
       "    </tr>\n",
       "    <tr>\n",
       "      <th>18</th>\n",
       "      <td>hr_1</td>\n",
       "      <td>0.750830</td>\n",
       "      <td>2.118758</td>\n",
       "    </tr>\n",
       "    <tr>\n",
       "      <th>0</th>\n",
       "      <td>holiday</td>\n",
       "      <td>0.729956</td>\n",
       "      <td>2.074990</td>\n",
       "    </tr>\n",
       "    <tr>\n",
       "      <th>32</th>\n",
       "      <td>hr_15</td>\n",
       "      <td>0.683923</td>\n",
       "      <td>1.981637</td>\n",
       "    </tr>\n",
       "    <tr>\n",
       "      <th>30</th>\n",
       "      <td>hr_13</td>\n",
       "      <td>0.435117</td>\n",
       "      <td>1.545144</td>\n",
       "    </tr>\n",
       "    <tr>\n",
       "      <th>31</th>\n",
       "      <td>hr_14</td>\n",
       "      <td>0.399857</td>\n",
       "      <td>1.491611</td>\n",
       "    </tr>\n",
       "    <tr>\n",
       "      <th>3</th>\n",
       "      <td>temp</td>\n",
       "      <td>0.391316</td>\n",
       "      <td>1.478926</td>\n",
       "    </tr>\n",
       "    <tr>\n",
       "      <th>4</th>\n",
       "      <td>hum</td>\n",
       "      <td>0.372190</td>\n",
       "      <td>1.450908</td>\n",
       "    </tr>\n",
       "    <tr>\n",
       "      <th>6</th>\n",
       "      <td>season_2</td>\n",
       "      <td>0.372102</td>\n",
       "      <td>1.450781</td>\n",
       "    </tr>\n",
       "    <tr>\n",
       "      <th>22</th>\n",
       "      <td>hr_5</td>\n",
       "      <td>0.326718</td>\n",
       "      <td>1.386410</td>\n",
       "    </tr>\n",
       "    <tr>\n",
       "      <th>9</th>\n",
       "      <td>weathersit_1</td>\n",
       "      <td>0.297825</td>\n",
       "      <td>1.346927</td>\n",
       "    </tr>\n",
       "    <tr>\n",
       "      <th>13</th>\n",
       "      <td>weekday_1</td>\n",
       "      <td>0.183506</td>\n",
       "      <td>1.201422</td>\n",
       "    </tr>\n",
       "    <tr>\n",
       "      <th>12</th>\n",
       "      <td>weekday_0</td>\n",
       "      <td>0.120152</td>\n",
       "      <td>1.127668</td>\n",
       "    </tr>\n",
       "    <tr>\n",
       "      <th>14</th>\n",
       "      <td>weekday_2</td>\n",
       "      <td>0.100490</td>\n",
       "      <td>1.105713</td>\n",
       "    </tr>\n",
       "    <tr>\n",
       "      <th>5</th>\n",
       "      <td>windspeed</td>\n",
       "      <td>-0.010053</td>\n",
       "      <td>0.989998</td>\n",
       "    </tr>\n",
       "    <tr>\n",
       "      <th>23</th>\n",
       "      <td>hr_6</td>\n",
       "      <td>-0.039204</td>\n",
       "      <td>0.961554</td>\n",
       "    </tr>\n",
       "    <tr>\n",
       "      <th>1</th>\n",
       "      <td>weekday</td>\n",
       "      <td>-0.067408</td>\n",
       "      <td>0.934814</td>\n",
       "    </tr>\n",
       "    <tr>\n",
       "      <th>16</th>\n",
       "      <td>weekday_4</td>\n",
       "      <td>-0.085639</td>\n",
       "      <td>0.917925</td>\n",
       "    </tr>\n",
       "    <tr>\n",
       "      <th>17</th>\n",
       "      <td>weekday_5</td>\n",
       "      <td>-0.090031</td>\n",
       "      <td>0.913903</td>\n",
       "    </tr>\n",
       "    <tr>\n",
       "      <th>34</th>\n",
       "      <td>hr_17</td>\n",
       "      <td>-0.125751</td>\n",
       "      <td>0.881834</td>\n",
       "    </tr>\n",
       "    <tr>\n",
       "      <th>11</th>\n",
       "      <td>weathersit_3</td>\n",
       "      <td>-0.139414</td>\n",
       "      <td>0.869868</td>\n",
       "    </tr>\n",
       "    <tr>\n",
       "      <th>7</th>\n",
       "      <td>season_3</td>\n",
       "      <td>-0.147979</td>\n",
       "      <td>0.862449</td>\n",
       "    </tr>\n",
       "    <tr>\n",
       "      <th>10</th>\n",
       "      <td>weathersit_2</td>\n",
       "      <td>-0.149705</td>\n",
       "      <td>0.860962</td>\n",
       "    </tr>\n",
       "    <tr>\n",
       "      <th>33</th>\n",
       "      <td>hr_16</td>\n",
       "      <td>-0.175115</td>\n",
       "      <td>0.839360</td>\n",
       "    </tr>\n",
       "    <tr>\n",
       "      <th>28</th>\n",
       "      <td>hr_11</td>\n",
       "      <td>-0.178342</td>\n",
       "      <td>0.836656</td>\n",
       "    </tr>\n",
       "    <tr>\n",
       "      <th>29</th>\n",
       "      <td>hr_12</td>\n",
       "      <td>-0.276894</td>\n",
       "      <td>0.758135</td>\n",
       "    </tr>\n",
       "    <tr>\n",
       "      <th>27</th>\n",
       "      <td>hr_10</td>\n",
       "      <td>-0.317018</td>\n",
       "      <td>0.728318</td>\n",
       "    </tr>\n",
       "    <tr>\n",
       "      <th>36</th>\n",
       "      <td>hr_19</td>\n",
       "      <td>-0.443721</td>\n",
       "      <td>0.641645</td>\n",
       "    </tr>\n",
       "    <tr>\n",
       "      <th>35</th>\n",
       "      <td>hr_18</td>\n",
       "      <td>-0.509453</td>\n",
       "      <td>0.600824</td>\n",
       "    </tr>\n",
       "    <tr>\n",
       "      <th>15</th>\n",
       "      <td>weekday_3</td>\n",
       "      <td>-0.571442</td>\n",
       "      <td>0.564710</td>\n",
       "    </tr>\n",
       "    <tr>\n",
       "      <th>24</th>\n",
       "      <td>hr_7</td>\n",
       "      <td>-0.600599</td>\n",
       "      <td>0.548483</td>\n",
       "    </tr>\n",
       "    <tr>\n",
       "      <th>26</th>\n",
       "      <td>hr_9</td>\n",
       "      <td>-0.647268</td>\n",
       "      <td>0.523474</td>\n",
       "    </tr>\n",
       "    <tr>\n",
       "      <th>8</th>\n",
       "      <td>season_4</td>\n",
       "      <td>-0.650610</td>\n",
       "      <td>0.521728</td>\n",
       "    </tr>\n",
       "    <tr>\n",
       "      <th>37</th>\n",
       "      <td>hr_20</td>\n",
       "      <td>-0.764740</td>\n",
       "      <td>0.465455</td>\n",
       "    </tr>\n",
       "    <tr>\n",
       "      <th>40</th>\n",
       "      <td>hr_23</td>\n",
       "      <td>-0.770387</td>\n",
       "      <td>0.462834</td>\n",
       "    </tr>\n",
       "    <tr>\n",
       "      <th>38</th>\n",
       "      <td>hr_21</td>\n",
       "      <td>-0.808637</td>\n",
       "      <td>0.445465</td>\n",
       "    </tr>\n",
       "    <tr>\n",
       "      <th>39</th>\n",
       "      <td>hr_22</td>\n",
       "      <td>-0.893532</td>\n",
       "      <td>0.409208</td>\n",
       "    </tr>\n",
       "    <tr>\n",
       "      <th>25</th>\n",
       "      <td>hr_8</td>\n",
       "      <td>-0.904078</td>\n",
       "      <td>0.404915</td>\n",
       "    </tr>\n",
       "    <tr>\n",
       "      <th>2</th>\n",
       "      <td>workingday</td>\n",
       "      <td>-1.193073</td>\n",
       "      <td>0.303288</td>\n",
       "    </tr>\n",
       "  </tbody>\n",
       "</table>\n",
       "</div>"
      ],
      "text/plain": [
       "       predictor  log_coefs  transformed_coefs\n",
       "20          hr_3   2.066365           7.896067\n",
       "19          hr_2   1.967425           7.152238\n",
       "21          hr_4   1.908866           6.745437\n",
       "18          hr_1   0.750830           2.118758\n",
       "0        holiday   0.729956           2.074990\n",
       "32         hr_15   0.683923           1.981637\n",
       "30         hr_13   0.435117           1.545144\n",
       "31         hr_14   0.399857           1.491611\n",
       "3           temp   0.391316           1.478926\n",
       "4            hum   0.372190           1.450908\n",
       "6       season_2   0.372102           1.450781\n",
       "22          hr_5   0.326718           1.386410\n",
       "9   weathersit_1   0.297825           1.346927\n",
       "13     weekday_1   0.183506           1.201422\n",
       "12     weekday_0   0.120152           1.127668\n",
       "14     weekday_2   0.100490           1.105713\n",
       "5      windspeed  -0.010053           0.989998\n",
       "23          hr_6  -0.039204           0.961554\n",
       "1        weekday  -0.067408           0.934814\n",
       "16     weekday_4  -0.085639           0.917925\n",
       "17     weekday_5  -0.090031           0.913903\n",
       "34         hr_17  -0.125751           0.881834\n",
       "11  weathersit_3  -0.139414           0.869868\n",
       "7       season_3  -0.147979           0.862449\n",
       "10  weathersit_2  -0.149705           0.860962\n",
       "33         hr_16  -0.175115           0.839360\n",
       "28         hr_11  -0.178342           0.836656\n",
       "29         hr_12  -0.276894           0.758135\n",
       "27         hr_10  -0.317018           0.728318\n",
       "36         hr_19  -0.443721           0.641645\n",
       "35         hr_18  -0.509453           0.600824\n",
       "15     weekday_3  -0.571442           0.564710\n",
       "24          hr_7  -0.600599           0.548483\n",
       "26          hr_9  -0.647268           0.523474\n",
       "8       season_4  -0.650610           0.521728\n",
       "37         hr_20  -0.764740           0.465455\n",
       "40         hr_23  -0.770387           0.462834\n",
       "38         hr_21  -0.808637           0.445465\n",
       "39         hr_22  -0.893532           0.409208\n",
       "25          hr_8  -0.904078           0.404915\n",
       "2     workingday  -1.193073           0.303288"
      ]
     },
     "execution_count": 142,
     "metadata": {},
     "output_type": "execute_result"
    }
   ],
   "source": [
    "log_reg_coefs = pd.DataFrame(X_train.columns, columns=['predictor'])\n",
    "log_reg_coefs['log_coefs'] = model_log.coef_.transpose()\n",
    "log_reg_coefs['transformed_coefs'] = math.e**log_reg_coefs.log_coefs\n",
    "log_reg_coefs.loc[((log_reg_coefs['transformed_coefs']>2) | (log_reg_coefs[\n",
    "    'transformed_coefs']<-2)) ,:].sort_values(by='transformed_coefs', ascending=False)\n",
    "log_reg_coefs.sort_values(by='transformed_coefs', ascending=False)"
   ]
  },
  {
   "cell_type": "code",
   "execution_count": null,
   "metadata": {},
   "outputs": [],
   "source": [
    "hour_raw."
   ]
  },
  {
   "cell_type": "code",
   "execution_count": 143,
   "metadata": {
    "collapsed": true
   },
   "outputs": [
    {
     "data": {
      "text/html": [
       "<div>\n",
       "<style scoped>\n",
       "    .dataframe tbody tr th:only-of-type {\n",
       "        vertical-align: middle;\n",
       "    }\n",
       "\n",
       "    .dataframe tbody tr th {\n",
       "        vertical-align: top;\n",
       "    }\n",
       "\n",
       "    .dataframe thead th {\n",
       "        text-align: right;\n",
       "    }\n",
       "</style>\n",
       "<table border=\"1\" class=\"dataframe\">\n",
       "  <thead>\n",
       "    <tr style=\"text-align: right;\">\n",
       "      <th></th>\n",
       "      <th>tri</th>\n",
       "      <th>results</th>\n",
       "    </tr>\n",
       "  </thead>\n",
       "  <tbody>\n",
       "    <tr>\n",
       "      <th>0</th>\n",
       "      <td>-2.0</td>\n",
       "      <td>0.119203</td>\n",
       "    </tr>\n",
       "    <tr>\n",
       "      <th>1</th>\n",
       "      <td>-1.6</td>\n",
       "      <td>0.167982</td>\n",
       "    </tr>\n",
       "    <tr>\n",
       "      <th>2</th>\n",
       "      <td>-1.2</td>\n",
       "      <td>0.231475</td>\n",
       "    </tr>\n",
       "    <tr>\n",
       "      <th>3</th>\n",
       "      <td>-0.8</td>\n",
       "      <td>0.310026</td>\n",
       "    </tr>\n",
       "    <tr>\n",
       "      <th>4</th>\n",
       "      <td>-0.4</td>\n",
       "      <td>0.401312</td>\n",
       "    </tr>\n",
       "    <tr>\n",
       "      <th>5</th>\n",
       "      <td>0.0</td>\n",
       "      <td>0.500000</td>\n",
       "    </tr>\n",
       "    <tr>\n",
       "      <th>6</th>\n",
       "      <td>0.4</td>\n",
       "      <td>0.598688</td>\n",
       "    </tr>\n",
       "    <tr>\n",
       "      <th>7</th>\n",
       "      <td>0.8</td>\n",
       "      <td>0.689974</td>\n",
       "    </tr>\n",
       "    <tr>\n",
       "      <th>8</th>\n",
       "      <td>1.2</td>\n",
       "      <td>0.768525</td>\n",
       "    </tr>\n",
       "    <tr>\n",
       "      <th>9</th>\n",
       "      <td>1.6</td>\n",
       "      <td>0.832018</td>\n",
       "    </tr>\n",
       "    <tr>\n",
       "      <th>10</th>\n",
       "      <td>2.0</td>\n",
       "      <td>0.880797</td>\n",
       "    </tr>\n",
       "  </tbody>\n",
       "</table>\n",
       "</div>"
      ],
      "text/plain": [
       "    tri   results\n",
       "0  -2.0  0.119203\n",
       "1  -1.6  0.167982\n",
       "2  -1.2  0.231475\n",
       "3  -0.8  0.310026\n",
       "4  -0.4  0.401312\n",
       "5   0.0  0.500000\n",
       "6   0.4  0.598688\n",
       "7   0.8  0.689974\n",
       "8   1.2  0.768525\n",
       "9   1.6  0.832018\n",
       "10  2.0  0.880797"
      ]
     },
     "execution_count": 143,
     "metadata": {},
     "output_type": "execute_result"
    }
   ],
   "source": [
    "import math\n",
    "from math import exp\n",
    "from math import e\n",
    "trials = pd.DataFrame(np.linspace(-2,2,11), columns=['tri'])\n",
    "trials['results'] = math.e**trials.tri/(1+math.e**trials.tri)\n",
    "trials\n",
    "# prod.append\n",
    "# pro = []\n",
    "# for x in trials:\n",
    "#     prod.append(exp(x)/(1+exp(x)))\n",
    "# prod"
   ]
  },
  {
   "cell_type": "code",
   "execution_count": null,
   "metadata": {},
   "outputs": [],
   "source": []
  },
  {
   "cell_type": "code",
   "execution_count": null,
   "metadata": {},
   "outputs": [],
   "source": []
  },
  {
   "cell_type": "code",
   "execution_count": null,
   "metadata": {},
   "outputs": [],
   "source": []
  }
 ],
 "metadata": {
  "kernelspec": {
   "display_name": "Python 3",
   "language": "python",
   "name": "python3"
  },
  "language_info": {
   "codemirror_mode": {
    "name": "ipython",
    "version": 3
   },
   "file_extension": ".py",
   "mimetype": "text/x-python",
   "name": "python",
   "nbconvert_exporter": "python",
   "pygments_lexer": "ipython3",
   "version": "3.7.3"
  }
 },
 "nbformat": 4,
 "nbformat_minor": 2
}
