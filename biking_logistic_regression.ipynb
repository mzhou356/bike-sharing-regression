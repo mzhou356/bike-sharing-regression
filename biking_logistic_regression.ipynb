{
 "cells": [
  {
   "cell_type": "code",
   "execution_count": 1,
   "metadata": {},
   "outputs": [],
   "source": [
    "import pandas as pd\n",
    "import numpy as np\n",
    "import matplotlib.pyplot as plt\n",
    "import seaborn as sns\n",
    "%matplotlib inline\n",
    "from sklearn.model_selection import train_test_split, cross_val_score\n",
    "import statsmodels.api as sm\n",
    "import scipy.stats as stats\n",
    "from sklearn.linear_model import LogisticRegression"
   ]
  },
  {
   "cell_type": "code",
   "execution_count": 2,
   "metadata": {},
   "outputs": [],
   "source": [
    "# load dataframe \n",
    "users_df = pd.read_pickle('cleaned_data/bikes_logistic.pkl')"
   ]
  },
  {
   "cell_type": "code",
   "execution_count": 5,
   "metadata": {},
   "outputs": [
    {
     "data": {
      "text/plain": [
       "0    0.63991\n",
       "1    0.36009\n",
       "Name: above_avg_casual, dtype: float64"
      ]
     },
     "execution_count": 5,
     "metadata": {},
     "output_type": "execute_result"
    }
   ],
   "source": [
    "users_df.above_avg_casual.value_counts(normalize=True)"
   ]
  },
  {
   "cell_type": "markdown",
   "metadata": {},
   "source": [
    "### labels imbalances \n",
    "64% below and 36% above casual user\n",
    "\n",
    "need do weighted sampling "
   ]
  },
  {
   "cell_type": "code",
   "execution_count": 7,
   "metadata": {},
   "outputs": [],
   "source": [
    "#Define appropriate X and y\n",
    "X = users_df.drop(columns=['above_avg_casual'])\n",
    "y = users_df.above_avg_casual\n",
    "# Split the data into train and test sets.\n",
    "X_train, X_test, y_train, y_test = train_test_split(X, y, random_state=0)\n"
   ]
  },
  {
   "cell_type": "code",
   "execution_count": 9,
   "metadata": {
    "scrolled": true
   },
   "outputs": [
    {
     "data": {
      "text/plain": [
       "0    0.636643\n",
       "1    0.363357\n",
       "Name: above_avg_casual, dtype: float64"
      ]
     },
     "metadata": {},
     "output_type": "display_data"
    },
    {
     "data": {
      "text/plain": [
       "0    0.649712\n",
       "1    0.350288\n",
       "Name: above_avg_casual, dtype: float64"
      ]
     },
     "metadata": {},
     "output_type": "display_data"
    }
   ],
   "source": [
    "display(y_train.value_counts(normalize = True))\n",
    "display(y_test.value_counts(normalize=True))\n",
    "# similar distribution for both "
   ]
  },
  {
   "cell_type": "code",
   "execution_count": 11,
   "metadata": {},
   "outputs": [],
   "source": [
    "def logreg(weight):\n",
    "    '''\n",
    "    inputs:\n",
    "    weight: class weight for logreg \n",
    "    returns:\n",
    "    y_hat_test\n",
    "    y_score\n",
    "    fpr,tpr, thresholds \n",
    "    also auc curve \n",
    "    '''\n",
    "    logreg = LogisticRegression(\n",
    "        fit_intercept=False, C=1e12, class_weight=weight, solver='lbfgs')\n",
    "    model_log = logreg.fit(X_train,y_train)\n",
    "    print(model_log)\n",
    "    y_hat_test = logreg.predict(X_test)\n",
    "    y_score = logreg.fit(X_train, y_train).decision_function(X_test)\n",
    "    fpr, tpr, thresholds = roc_curve(y_test, y_score)\n",
    "    print('AUC for {}: {}'.format(names[n], auc(fpr, tpr)))\n",
    "    lw = 2\n",
    "    plt.plot(fpr, tpr, color=colors[n],\n",
    "             lw=lw, label='ROC curve {}'.format(names[n]))\n",
    "    return model_log, y_hat_test, y_score, fpr, tpr, thresholds \n",
    "    "
   ]
  },
  {
   "cell_type": "code",
   "execution_count": null,
   "metadata": {},
   "outputs": [],
   "source": []
  }
 ],
 "metadata": {
  "kernelspec": {
   "display_name": "Python 3",
   "language": "python",
   "name": "python3"
  },
  "language_info": {
   "codemirror_mode": {
    "name": "ipython",
    "version": 3
   },
   "file_extension": ".py",
   "mimetype": "text/x-python",
   "name": "python",
   "nbconvert_exporter": "python",
   "pygments_lexer": "ipython3",
   "version": "3.7.1"
  }
 },
 "nbformat": 4,
 "nbformat_minor": 2
}
