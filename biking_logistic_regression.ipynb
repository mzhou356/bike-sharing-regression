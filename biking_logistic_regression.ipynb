{
 "cells": [
  {
   "cell_type": "code",
   "execution_count": 82,
   "metadata": {},
   "outputs": [],
   "source": [
    "import pandas as pd\n",
    "import numpy as np\n",
    "import matplotlib.pyplot as plt\n",
    "import seaborn as sns\n",
    "%matplotlib inline\n",
    "from sklearn.model_selection import train_test_split, cross_val_score, GridSearchCV\n",
    "from sklearn.metrics import roc_auc_score, roc_curve, auc,accuracy_score\n",
    "from sklearn.linear_model import LogisticRegressionCV, LogisticRegression\n",
    "from imblearn.over_sampling import SMOTE\n",
    "from sklearn.pipeline import Pipeline"
   ]
  },
  {
   "cell_type": "code",
   "execution_count": 3,
   "metadata": {},
   "outputs": [],
   "source": [
    "# load dataframe \n",
    "users_df = pd.read_pickle('cleaned_data/bikes_logistic.pkl')"
   ]
  },
  {
   "cell_type": "code",
   "execution_count": 4,
   "metadata": {},
   "outputs": [
    {
     "data": {
      "text/plain": [
       "0    0.63991\n",
       "1    0.36009\n",
       "Name: above_avg_casual, dtype: float64"
      ]
     },
     "execution_count": 4,
     "metadata": {},
     "output_type": "execute_result"
    }
   ],
   "source": [
    "users_df.above_avg_casual.value_counts(normalize=True)"
   ]
  },
  {
   "cell_type": "markdown",
   "metadata": {},
   "source": [
    "### labels imbalances \n",
    "64% below and 36% above casual user\n",
    "\n",
    "need do weighted sampling "
   ]
  },
  {
   "cell_type": "code",
   "execution_count": 5,
   "metadata": {},
   "outputs": [],
   "source": [
    "#Define appropriate X and y\n",
    "X = users_df.drop(columns=['above_avg_casual'])\n",
    "y = users_df.above_avg_casual\n",
    "# Split the data into train and test sets.\n",
    "X_train, X_test, y_train, y_test = train_test_split(X, y, random_state=0)\n"
   ]
  },
  {
   "cell_type": "code",
   "execution_count": 6,
   "metadata": {
    "scrolled": true
   },
   "outputs": [
    {
     "data": {
      "text/plain": [
       "0    0.636643\n",
       "1    0.363357\n",
       "Name: above_avg_casual, dtype: float64"
      ]
     },
     "metadata": {},
     "output_type": "display_data"
    },
    {
     "data": {
      "text/plain": [
       "0    0.649712\n",
       "1    0.350288\n",
       "Name: above_avg_casual, dtype: float64"
      ]
     },
     "metadata": {},
     "output_type": "display_data"
    }
   ],
   "source": [
    "display(y_train.value_counts(normalize = True))\n",
    "display(y_test.value_counts(normalize=True))\n",
    "# similar distribution for both "
   ]
  },
  {
   "cell_type": "code",
   "execution_count": 7,
   "metadata": {},
   "outputs": [],
   "source": [
    "def logreg(weight):\n",
    "    '''\n",
    "    inputs:\n",
    "    weight: class weight for logreg \n",
    "    returns:\n",
    "    y_hat_test\n",
    "    y_score\n",
    "    fpr,tpr, thresholds \n",
    "    also auc curve \n",
    "    '''\n",
    "    logreg = LogisticRegression(\n",
    "        fit_intercept=False, C=1e12, class_weight=weight, solver='lbfgs')\n",
    "    model_log = logreg.fit(X_train,y_train)\n",
    "    print(model_log)\n",
    "    y_hat_test = logreg.predict(X_test)\n",
    "    y_score = logreg.fit(X_train, y_train).decision_function(X_test)\n",
    "    fpr, tpr, thresholds = roc_curve(y_test, y_score)\n",
    "    print('AUC:',  auc(fpr, tpr))\n",
    "    lw = 2\n",
    "    plt.plot(fpr, tpr,\n",
    "             lw=lw, label='ROC curve')\n",
    "    return model_log, y_hat_test, y_score, fpr, tpr, thresholds \n",
    "    "
   ]
  },
  {
   "cell_type": "code",
   "execution_count": 8,
   "metadata": {},
   "outputs": [],
   "source": [
    "weights = [None, 'balanced', {1:0.36, 0:0.64}]"
   ]
  },
  {
   "cell_type": "code",
   "execution_count": 9,
   "metadata": {},
   "outputs": [
    {
     "name": "stdout",
     "output_type": "stream",
     "text": [
      "LogisticRegression(C=1000000000000.0, class_weight=None, dual=False,\n",
      "                   fit_intercept=False, intercept_scaling=1, l1_ratio=None,\n",
      "                   max_iter=100, multi_class='warn', n_jobs=None, penalty='l2',\n",
      "                   random_state=None, solver='lbfgs', tol=0.0001, verbose=0,\n",
      "                   warm_start=False)\n",
      "AUC: 0.8681552369474884\n"
     ]
    },
    {
     "data": {
      "text/plain": [
       "(LogisticRegression(C=1000000000000.0, class_weight=None, dual=False,\n",
       "                    fit_intercept=False, intercept_scaling=1, l1_ratio=None,\n",
       "                    max_iter=100, multi_class='warn', n_jobs=None, penalty='l2',\n",
       "                    random_state=None, solver='lbfgs', tol=0.0001, verbose=0,\n",
       "                    warm_start=False),\n",
       " array([1, 0, 0, ..., 0, 0, 0]),\n",
       " array([ 0.65624968, -2.29697143, -3.36901423, ..., -3.67341844,\n",
       "        -2.09421733, -1.63706314]),\n",
       " array([0.       , 0.       , 0.       , ..., 0.9978746, 0.9978746,\n",
       "        1.       ]),\n",
       " array([0.00000000e+00, 6.57030223e-04, 3.02233903e-02, ...,\n",
       "        9.99342970e-01, 1.00000000e+00, 1.00000000e+00]),\n",
       " array([  6.03657202,   5.03657202,   4.00240365, ...,  -6.83690697,\n",
       "         -6.95185539, -11.14951526]))"
      ]
     },
     "execution_count": 9,
     "metadata": {},
     "output_type": "execute_result"
    },
    {
     "data": {
      "image/png": "[encoded data removed]",
      "text/plain": [
       "<Figure size 432x288 with 1 Axes>"
      ]
     },
     "metadata": {
      "needs_background": "light"
     },
     "output_type": "display_data"
    }
   ],
   "source": [
    "# None\n",
    "logreg(weights[0])"
   ]
  },
  {
   "cell_type": "code",
   "execution_count": 10,
   "metadata": {},
   "outputs": [
    {
     "name": "stdout",
     "output_type": "stream",
     "text": [
      "LogisticRegression(C=1000000000000.0, class_weight='balanced', dual=False,\n",
      "                   fit_intercept=False, intercept_scaling=1, l1_ratio=None,\n",
      "                   max_iter=100, multi_class='warn', n_jobs=None, penalty='l2',\n",
      "                   random_state=None, solver='lbfgs', tol=0.0001, verbose=0,\n",
      "                   warm_start=False)\n",
      "AUC: 0.8677914614465464\n"
     ]
    },
    {
     "data": {
      "text/plain": [
       "(LogisticRegression(C=1000000000000.0, class_weight='balanced', dual=False,\n",
       "                    fit_intercept=False, intercept_scaling=1, l1_ratio=None,\n",
       "                    max_iter=100, multi_class='warn', n_jobs=None, penalty='l2',\n",
       "                    random_state=None, solver='lbfgs', tol=0.0001, verbose=0,\n",
       "                    warm_start=False),\n",
       " array([1, 0, 0, ..., 0, 0, 0]),\n",
       " array([ 1.29075762, -1.57530405, -2.88977195, ..., -2.9069413 ,\n",
       "        -1.59512526, -1.02468287]),\n",
       " array([0.       , 0.       , 0.       , ..., 0.9978746, 0.9978746,\n",
       "        1.       ]),\n",
       " array([0.00000000e+00, 6.57030223e-04, 2.95663601e-02, ...,\n",
       "        9.99342970e-01, 1.00000000e+00, 1.00000000e+00]),\n",
       " array([  6.62368751,   5.62368751,   4.56605964, ...,  -6.2169308 ,\n",
       "         -6.84187298, -10.40623433]))"
      ]
     },
     "execution_count": 10,
     "metadata": {},
     "output_type": "execute_result"
    },
    {
     "data": {
      "image/png": "[encoded data removed]",
      "text/plain": [
       "<Figure size 432x288 with 1 Axes>"
      ]
     },
     "metadata": {
      "needs_background": "light"
     },
     "output_type": "display_data"
    }
   ],
   "source": [
    "# balanced \n",
    "logreg(weights[1])"
   ]
  },
  {
   "cell_type": "code",
   "execution_count": 11,
   "metadata": {},
   "outputs": [
    {
     "name": "stdout",
     "output_type": "stream",
     "text": [
      "LogisticRegression(C=1000000000000.0, class_weight={0: 0.64, 1: 0.36},\n",
      "                   dual=False, fit_intercept=False, intercept_scaling=1,\n",
      "                   l1_ratio=None, max_iter=100, multi_class='warn', n_jobs=None,\n",
      "                   penalty='l2', random_state=None, solver='lbfgs', tol=0.0001,\n",
      "                   verbose=0, warm_start=False)\n",
      "AUC: 0.867677417943372\n"
     ]
    },
    {
     "data": {
      "text/plain": [
       "(LogisticRegression(C=1000000000000.0, class_weight={0: 0.64, 1: 0.36},\n",
       "                    dual=False, fit_intercept=False, intercept_scaling=1,\n",
       "                    l1_ratio=None, max_iter=100, multi_class='warn', n_jobs=None,\n",
       "                    penalty='l2', random_state=None, solver='lbfgs', tol=0.0001,\n",
       "                    verbose=0, warm_start=False),\n",
       " array([1, 0, 0, ..., 0, 0, 0]),\n",
       " array([ 0.01065808, -3.05684288, -3.87431147, ..., -4.44759109,\n",
       "        -2.61122684, -2.26005373]),\n",
       " array([0.        , 0.        , 0.        , ..., 0.99433227, 0.99433227,\n",
       "        1.        ]),\n",
       " array([0.00000000e+00, 6.57030223e-04, 3.61366623e-02, ...,\n",
       "        9.99342970e-01, 1.00000000e+00, 1.00000000e+00]),\n",
       " array([  5.46023224,   4.46023224,   3.47450229, ...,  -7.08243397,\n",
       "         -7.08716764, -11.92509572]))"
      ]
     },
     "execution_count": 11,
     "metadata": {},
     "output_type": "execute_result"
    },
    {
     "data": {
      "image/png": "[encoded data removed]",
      "text/plain": [
       "<Figure size 432x288 with 1 Axes>"
      ]
     },
     "metadata": {
      "needs_background": "light"
     },
     "output_type": "display_data"
    }
   ],
   "source": [
    "logreg(weights[2])"
   ]
  },
  {
   "cell_type": "code",
   "execution_count": 42,
   "metadata": {},
   "outputs": [
    {
     "name": "stdout",
     "output_type": "stream",
     "text": [
      "1    8298\n",
      "0    8298\n",
      "dtype: int64\n"
     ]
    }
   ],
   "source": [
    "# initialize smote \n",
    "smote = SMOTE()\n",
    "X_train_resampled, y_train_resampled = smote.fit_sample(X_train, y_train) \n",
    "print(pd.Series(y_train_resampled).value_counts())#Preview synthetic sample class distribution\n",
    "# 50 to 50 "
   ]
  },
  {
   "cell_type": "code",
   "execution_count": 73,
   "metadata": {},
   "outputs": [
    {
     "name": "stdout",
     "output_type": "stream",
     "text": [
      "AUC: 0.867964621377897\n"
     ]
    }
   ],
   "source": [
    "logreg = LogisticRegression(fit_intercept = False, max_iter=200, C = 1e6,solver ='lbfgs')\n",
    "model_log = logreg.fit(X_train_resampled, y_train_resampled)\n",
    "model_log\n",
    "y_hat_test = logreg.predict(X_test)\n",
    "y_score = logreg.decision_function(X_test)\n",
    "fpr, tpr, thresholds = roc_curve(y_test, y_score)\n",
    "print('AUC:', auc(fpr, tpr))"
   ]
  },
  {
   "cell_type": "code",
   "execution_count": 69,
   "metadata": {
    "scrolled": true
   },
   "outputs": [
    {
     "data": {
      "text/plain": [
       "LogisticRegressionCV(Cs=[100000, 1000000, 10000000, 100000000],\n",
       "                     class_weight=None, cv=10, dual=False, fit_intercept=True,\n",
       "                     intercept_scaling=1.0, l1_ratios=None, max_iter=200,\n",
       "                     multi_class='warn', n_jobs=None, penalty='l2',\n",
       "                     random_state=None, refit=True, scoring=None,\n",
       "                     solver='lbfgs', tol=0.0001, verbose=0)"
      ]
     },
     "execution_count": 69,
     "metadata": {},
     "output_type": "execute_result"
    }
   ],
   "source": [
    "clf = LogisticRegressionCV(Cs=[100000,1000000,10000000,100000000],cv = 10, max_iter=200)\n",
    "\n",
    "# Train model\n",
    "clf.fit(X_train, y_train)"
   ]
  },
  {
   "cell_type": "code",
   "execution_count": 74,
   "metadata": {},
   "outputs": [
    {
     "data": {
      "text/plain": [
       "<bound method BaseEstimator.get_params of LogisticRegressionCV(Cs=[100000, 1000000, 10000000, 100000000],\n",
       "                     class_weight=None, cv=10, dual=False, fit_intercept=True,\n",
       "                     intercept_scaling=1.0, l1_ratios=None, max_iter=200,\n",
       "                     multi_class='warn', n_jobs=None, penalty='l2',\n",
       "                     random_state=None, refit=True, scoring=None,\n",
       "                     solver='lbfgs', tol=0.0001, verbose=0)>"
      ]
     },
     "execution_count": 74,
     "metadata": {},
     "output_type": "execute_result"
    }
   ],
   "source": [
    "clf.get_params"
   ]
  },
  {
   "cell_type": "code",
   "execution_count": 70,
   "metadata": {},
   "outputs": [
    {
     "data": {
      "text/plain": [
       "0.8121979286536248"
      ]
     },
     "execution_count": 70,
     "metadata": {},
     "output_type": "execute_result"
    }
   ],
   "source": [
    "accuracy_score(y_test,clf.predict(X_test))"
   ]
  },
  {
   "cell_type": "code",
   "execution_count": 71,
   "metadata": {},
   "outputs": [
    {
     "data": {
      "text/plain": [
       "0.7847697694412752"
      ]
     },
     "execution_count": 71,
     "metadata": {},
     "output_type": "execute_result"
    }
   ],
   "source": [
    "fpr, tpr, thresholds = roc_curve(y_test, clf.predict(X_test))\n",
    "auc(fpr, tpr)"
   ]
  },
  {
   "cell_type": "code",
   "execution_count": 99,
   "metadata": {},
   "outputs": [
    {
     "name": "stdout",
     "output_type": "stream",
     "text": [
      "Fitting 5 folds for each of 40 candidates, totalling 200 fits\n"
     ]
    },
    {
     "name": "stderr",
     "output_type": "stream",
     "text": [
      "[Parallel(n_jobs=-1)]: Using backend LokyBackend with 4 concurrent workers.\n",
      "[Parallel(n_jobs=-1)]: Done  59 tasks      | elapsed:    3.0s\n",
      "[Parallel(n_jobs=-1)]: Done 200 out of 200 | elapsed:    9.0s finished\n"
     ]
    }
   ],
   "source": [
    "# grid search \n",
    "pipe = Pipeline([('classifier' , LogisticRegression())])\n",
    "param_grid = [\n",
    "    {'classifier' : [LogisticRegression()],\n",
    "     'classifier__penalty' : ['l2'],\n",
    "    'classifier__C' : np.logspace(-4, 4, 20),\n",
    "    'classifier__solver' : ['liblinear','lbfgs']}\n",
    "]\n",
    "\n",
    "# Create grid search object\n",
    "\n",
    "clf = GridSearchCV(pipe, param_grid = param_grid, cv = 5, verbose=True, n_jobs=-1)\n",
    "\n",
    "# Fit on data\n",
    "\n",
    "best_clf = clf.fit(X_train, y_train)\n"
   ]
  },
  {
   "cell_type": "code",
   "execution_count": 100,
   "metadata": {},
   "outputs": [
    {
     "data": {
      "text/plain": [
       "Pipeline(memory=None,\n",
       "         steps=[('classifier',\n",
       "                 LogisticRegression(C=0.03359818286283781, class_weight=None,\n",
       "                                    dual=False, fit_intercept=True,\n",
       "                                    intercept_scaling=1, l1_ratio=None,\n",
       "                                    max_iter=100, multi_class='warn',\n",
       "                                    n_jobs=None, penalty='l2',\n",
       "                                    random_state=None, solver='lbfgs',\n",
       "                                    tol=0.0001, verbose=0, warm_start=False))],\n",
       "         verbose=False)"
      ]
     },
     "execution_count": 100,
     "metadata": {},
     "output_type": "execute_result"
    }
   ],
   "source": [
    "best_clf.best_estimator_"
   ]
  },
  {
   "cell_type": "code",
   "execution_count": 101,
   "metadata": {},
   "outputs": [
    {
     "data": {
      "text/plain": [
       "{'classifier': LogisticRegression(C=0.03359818286283781, class_weight=None, dual=False,\n",
       "                    fit_intercept=True, intercept_scaling=1, l1_ratio=None,\n",
       "                    max_iter=100, multi_class='warn', n_jobs=None, penalty='l2',\n",
       "                    random_state=None, solver='lbfgs', tol=0.0001, verbose=0,\n",
       "                    warm_start=False),\n",
       " 'classifier__C': 0.03359818286283781,\n",
       " 'classifier__penalty': 'l2',\n",
       " 'classifier__solver': 'lbfgs'}"
      ]
     },
     "execution_count": 101,
     "metadata": {},
     "output_type": "execute_result"
    }
   ],
   "source": [
    "best_clf.best_params_"
   ]
  },
  {
   "cell_type": "code",
   "execution_count": 102,
   "metadata": {},
   "outputs": [
    {
     "data": {
      "text/plain": [
       "0.8188583704158355"
      ]
     },
     "execution_count": 102,
     "metadata": {},
     "output_type": "execute_result"
    }
   ],
   "source": [
    "best_clf.best_score_"
   ]
  },
  {
   "cell_type": "code",
   "execution_count": 103,
   "metadata": {},
   "outputs": [],
   "source": [
    "y_pred = best_clf.predict(X_test)"
   ]
  },
  {
   "cell_type": "code",
   "execution_count": 104,
   "metadata": {},
   "outputs": [
    {
     "data": {
      "text/plain": [
       "0.8082853855005754"
      ]
     },
     "execution_count": 104,
     "metadata": {},
     "output_type": "execute_result"
    }
   ],
   "source": [
    "\n",
    "accuracy_score(y_test,clf.predict(X_test))"
   ]
  },
  {
   "cell_type": "code",
   "execution_count": 105,
   "metadata": {},
   "outputs": [
    {
     "data": {
      "text/plain": [
       "0.7738860626271062"
      ]
     },
     "execution_count": 105,
     "metadata": {},
     "output_type": "execute_result"
    }
   ],
   "source": [
    "fpr, tpr, thresholds = roc_curve(y_test, clf.predict(X_test))\n",
    "auc(fpr, tpr)"
   ]
  }
 ],
 "metadata": {
  "kernelspec": {
   "display_name": "Python 3",
   "language": "python",
   "name": "python3"
  },
  "language_info": {
   "codemirror_mode": {
    "name": "ipython",
    "version": 3
   },
   "file_extension": ".py",
   "mimetype": "text/x-python",
   "name": "python",
   "nbconvert_exporter": "python",
   "pygments_lexer": "ipython3",
   "version": "3.7.1"
  }
 },
 "nbformat": 4,
 "nbformat_minor": 2
}
